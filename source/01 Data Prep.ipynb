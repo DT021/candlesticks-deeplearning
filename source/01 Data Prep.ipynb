{
 "cells": [
  {
   "cell_type": "markdown",
   "metadata": {},
   "source": [
    "### Data Creation"
   ]
  },
  {
   "cell_type": "code",
   "execution_count": 1,
   "metadata": {
    "tags": []
   },
   "outputs": [
    {
     "output_type": "stream",
     "name": "stdout",
     "text": "2.2.0\nNum GPUs Available:  1\n"
    }
   ],
   "source": [
    "# cell magic functions :\n",
    "#   `%%capture` blocks jupyter notebook output,\n",
    "#   `%%script false --no-raise-error` avoid cell execution\n",
    "\n",
    "import numpy as np\n",
    "import pandas as pd\n",
    "import matplotlib.pyplot as plt\n",
    "\n",
    "from datetime import datetime, timedelta #Date arithmetic\n",
    "import mplfinance as mpf\n",
    "\n",
    "#import PIL\n",
    "#print('Pillow Version:', PIL.__version__)\n",
    "\n",
    "# load and show an image with Pillow\n",
    "from PIL import Image\n",
    "\n",
    "import h5py\n",
    "import os\n",
    "# TensorFlow and tf.keras\n",
    "import tensorflow as tf\n",
    "from tensorflow import keras\n",
    "\n",
    "print(tf.__version__)\n",
    "print(\"Num GPUs Available: \", len(tf.config.experimental.list_physical_devices('GPU')))\n",
    "\n",
    "import time\n",
    "\n",
    "import gc  #Garbage collect\n",
    "\n",
    "import multiprocessing as mp\n",
    "\n",
    "\n",
    "# Below 4 lines needed to reload function definitions\n",
    "import sys, importlib\n",
    "from project_functions import *\n",
    "importlib.reload(sys.modules['project_functions'])\n",
    "from project_functions import *\n",
    "\n",
    "\n"
   ]
  },
  {
   "cell_type": "code",
   "execution_count": 2,
   "metadata": {
    "tags": []
   },
   "outputs": [],
   "source": [
    "#Without parse_date, date column is typed as Object\n",
    "#df['date'] = df['date'].astype('datetime64')\n",
    "#Also, could have used pd.to_datetime()\n",
    "# Also : df.index.name = 'Date'\n",
    "df = pd.read_csv(\"../data/asx_03Jul20.csv\",parse_dates=[1]) #,index_col=1)\n",
    "#print(df.head())\n"
   ]
  },
  {
   "cell_type": "code",
   "execution_count": 3,
   "metadata": {
    "tags": []
   },
   "outputs": [],
   "source": [
    "# Rename cols needed for next steps ?\n",
    "df.columns = ['Symbol','Date','Open','High','Low','Close','Volume','Adjusted']\n",
    "df = df[df['Close'] > 0]\n",
    "#print(df.info())\n",
    "max_date = df.index.max()"
   ]
  },
  {
   "cell_type": "code",
   "execution_count": 4,
   "metadata": {},
   "outputs": [],
   "source": [
    "#Compute Growth and Target column\n",
    "df['Close_Prev'] = df.groupby(['Symbol'])['Close'].shift(1)\n",
    "df = df[df['Close_Prev'] > 0]\n",
    "df['Target'] = (100 * ((df['Close']/df['Close_Prev']) - 1)).apply(setTargetLabel)\n",
    "#df.groupby(['Target'])['Target'].count()\n"
   ]
  },
  {
   "cell_type": "code",
   "execution_count": 5,
   "metadata": {},
   "outputs": [],
   "source": [
    "%%script false --no-raise-error\n",
    "\n",
    "# Rows per symbols\n",
    "df.groupby(['Symbol'])['Symbol'].count()\n"
   ]
  },
  {
   "cell_type": "code",
   "execution_count": 6,
   "metadata": {},
   "outputs": [],
   "source": [
    "#df = df[df['Symbol']!='A2M.AX']"
   ]
  },
  {
   "cell_type": "code",
   "execution_count": 7,
   "metadata": {
    "tags": []
   },
   "outputs": [
    {
     "output_type": "stream",
     "name": "stdout",
     "text": "A2M.AX  1331\nAGL.AX  3917\nALL.AX  3917\nALQ.AX  3917\nALU.AX  3708\nALX.AX  2637\nAMC.AX  3917\nAMP.AX  3917\nANN.AX  3917\nANZ.AX  3917\nAPA.AX  3916\nAPT.AX  762\nAST.AX  3676\nASX.AX  3917\nAWC.AX  3917\nAZJ.AX  2427\nBEN.AX  3917\nBHP.AX  3917\nBLD.AX  3915\nBOQ.AX  3917\n"
    }
   ],
   "source": [
    "data_grouped = df.groupby('Symbol')\n",
    "for name,group in data_grouped:    \n",
    "    print(name + '  ' + str(group['Symbol'].count()))"
   ]
  },
  {
   "cell_type": "code",
   "execution_count": 8,
   "metadata": {
    "tags": []
   },
   "outputs": [],
   "source": [
    "%%script false --no-raise-error\n",
    "\n",
    "#Loop through an array one batch at a time\n",
    "syms = df['Symbol'].unique()\n",
    "print(len(syms))\n",
    "for i in range(0,len(syms),3):\n",
    "    print(i)\n",
    "    print(syms[i:i+3])\n",
    "\n"
   ]
  },
  {
   "cell_type": "code",
   "execution_count": 9,
   "metadata": {},
   "outputs": [
    {
     "output_type": "execute_result",
     "data": {
      "text/plain": "66300"
     },
     "metadata": {},
     "execution_count": 9
    }
   ],
   "source": [
    "3900*17"
   ]
  },
  {
   "cell_type": "code",
   "execution_count": 10,
   "metadata": {
    "tags": []
   },
   "outputs": [],
   "source": [
    "%%script false --no-raise-error\n",
    "\n",
    "#Multiprocessing with batch of Symbols on Hard Disk [WORKING FINE]\n",
    "start_time = time.time()\n",
    "\n",
    "data = df[df['Symbol'].isin(['ALL.AX','ALQ.AX'])]\n",
    "#data = df\n",
    "\n",
    "syms = data['Symbol'].unique()\n",
    "\n",
    "for i in range(0,len(syms),3):\n",
    "    print(syms[i:i+3])\n",
    "    start_time = time.time()\n",
    "    data = df[df['Symbol'].isin(syms[i:i+3])]\n",
    "    data_grouped = data.groupby('Symbol')\n",
    "    #print(data_grouped['Symbol'].unique())\n",
    "    result = applyParallel_groupby(data_grouped, createXYarrays)\n",
    "\n",
    "    #print(\"Length of result = \" +  str(len(result)))\n",
    "    saveXYtoDisk(result,\"Set\" + str(i))\n",
    "    print(\"--- %s seconds ---\" % (time.time() - start_time))\n",
    "\n",
    "#print(np.array(result).shape)\n",
    "#--- 1407.3019680976868 seconds ---\n",
    "\n"
   ]
  },
  {
   "cell_type": "code",
   "execution_count": 11,
   "metadata": {
    "tags": []
   },
   "outputs": [
    {
     "output_type": "stream",
     "name": "stdout",
     "text": "A2M.AX\nIter:0Iter:0Iter:0Iter:0Iter:0\nIter:0\n\n\n\n\nIter:100\nIter:100\nIter:100\nIter:100\nIter:100\nIter:100\nSetA2M.AX\n--- 65.36468315124512 seconds ---\nAGL.AX\nIter:0Iter:0Iter:0Iter:0\nIter:0\nIter:0\n\n\n\nIter:100\nIter:100\nIter:100\nIter:100\nIter:100\nIter:100\nIter:200\nIter:200\nIter:200\nIter:200\nIter:200\nIter:200\nIter:300\nIter:300\nIter:300\nIter:300\nIter:300\nIter:300\nIter:400\nIter:400\nIter:400\nIter:400\nIter:400\nIter:400\nIter:500\nIter:500\nIter:500\nIter:500\nIter:500Iter:500\n\nIter:600\nIter:600\nIter:600\nIter:600\nIter:600\nIter:600\nSetAGL.AX\n--- 224.0548219680786 seconds ---\nALL.AX\nIter:0Iter:0Iter:0Iter:0Iter:0\n\n\n\n\nIter:0\nIter:100\nIter:100\nIter:100\nIter:100\nIter:100\nIter:100\nIter:200\nIter:200\nIter:200\nIter:200\nIter:200\nIter:200\nIter:300\nIter:300\nIter:300\nIter:300\nIter:300\nIter:300\nIter:400\nIter:400\nIter:400\nIter:400\nIter:400\nIter:400\nIter:500\nIter:500\nIter:500\nIter:500\nIter:500\nIter:500\nIter:600\nIter:600\nIter:600\nIter:600\nIter:600\nIter:600\nSetALL.AX\n--- 224.18503594398499 seconds ---\nALQ.AX\nIter:0Iter:0\nIter:0\nIter:0\nIter:0Iter:0\n\n\nIter:100\nIter:100\nIter:100\nIter:100\nIter:100\nIter:100\nIter:200\nIter:200\nIter:200\nIter:200\nIter:200\nIter:200\nIter:300\nIter:300\nIter:300\nIter:300\nIter:300\nIter:300\nIter:400\nIter:400\nIter:400\nIter:400\nIter:400\nIter:400\nIter:500\nIter:500\nIter:500\nIter:500\nIter:500\nIter:500\nIter:600\nIter:600Iter:600\n\nIter:600\nIter:600\nIter:600\nSetALQ.AX\n--- 227.03669905662537 seconds ---\nALU.AX\nIter:0Iter:0Iter:0\nIter:0\n\n\nIter:0\nIter:0\nIter:100\nIter:100\nIter:100\nIter:100\nIter:100\nIter:100\nIter:200\nIter:200\nIter:200\nIter:200\nIter:200\nIter:200\nIter:300\nIter:300\nIter:300\nIter:300\nIter:300\nIter:300\nIter:400\nIter:400\nIter:400\nIter:400\nIter:400\nIter:400\nIter:500\nIter:500\nIter:500\nIter:500\nIter:500\nIter:500\nSetALU.AX\n--- 213.9756817817688 seconds ---\nALX.AX\nIter:0Iter:0Iter:0Iter:0Iter:0Iter:0\n\n\n\n\n\nIter:100\nIter:100\nIter:100\nIter:100\nIter:100\nIter:100\nIter:200\nIter:200\nIter:200\nIter:200\nIter:200\nIter:200\nIter:300\nIter:300\nIter:300\nIter:300\nIter:300\nIter:300\nIter:400\nIter:400\nIter:400\nIter:400\nIter:400\nIter:400\nSetALX.AX\n--- 142.5585343837738 seconds ---\nAMC.AX\nIter:0Iter:0Iter:0Iter:0Iter:0\n\n\nIter:0\n\n\nIter:100\nIter:100\nIter:100\nIter:100\nIter:100\nIter:100\nIter:200\nIter:200\nIter:200\nIter:200\nIter:200\nIter:200\nIter:300\nIter:300\nIter:300\nIter:300\nIter:300\nIter:300\nIter:400\nIter:400\nIter:400\nIter:400\nIter:400\nIter:400\nIter:500\nIter:500\nIter:500\nIter:500\nIter:500\nIter:500\nIter:600\nIter:600\nIter:600\nIter:600\nIter:600\nIter:600\nSetAMC.AX\n--- 226.01596307754517 seconds ---\nAMP.AX\nIter:0Iter:0Iter:0\nIter:0\n\nIter:0Iter:0\n\n\nIter:100\nIter:100\nIter:100\nIter:100\nIter:100\nIter:100\nIter:200\nIter:200\nIter:200\nIter:200\nIter:200\nIter:200\nIter:300\nIter:300\nIter:300\nIter:300\nIter:300\nIter:300\nIter:400\nIter:400\nIter:400\nIter:400\nIter:400\nIter:400\nIter:500\nIter:500\nIter:500\nIter:500\nIter:500Iter:500\n\nIter:600\nIter:600\nIter:600\nIter:600\nIter:600\nIter:600\nSetAMP.AX\n--- 227.28536987304688 seconds ---\nANN.AX\nIter:0Iter:0Iter:0Iter:0Iter:0Iter:0\n\n\n\n\n\nIter:100\nIter:100\nIter:100Iter:100\n\nIter:100\nIter:100\nIter:200\nIter:200\nIter:200\nIter:200\nIter:200\nIter:200\nIter:300\nIter:300\nIter:300\nIter:300\nIter:300\nIter:300\nIter:400\nIter:400\nIter:400\nIter:400\nIter:400\nIter:400\nIter:500\nIter:500\nIter:500\nIter:500\nIter:500\nIter:500\nIter:600\nIter:600\nIter:600\nIter:600\nIter:600\nIter:600\nSetANN.AX\n--- 229.2797873020172 seconds ---\nANZ.AX\nIter:0Iter:0Iter:0Iter:0\nIter:0\n\n\n\nIter:0\nIter:100\nIter:100\nIter:100\nIter:100\nIter:100\nIter:100\nIter:200\nIter:200\nIter:200\nIter:200\nIter:200\nIter:200\nIter:300\nIter:300\nIter:300\nIter:300\nIter:300\nIter:300\nIter:400\nIter:400\nIter:400\nIter:400\nIter:400\nIter:400\nIter:500\nIter:500\nIter:500\nIter:500\nIter:500\nIter:500\nIter:600\nIter:600\nIter:600\nIter:600\nIter:600\nIter:600\nSetANZ.AX\n--- 226.04228806495667 seconds ---\nAPA.AX\nIter:0Iter:0Iter:0Iter:0Iter:0\n\nIter:0\n\n\n\nIter:100\nIter:100\nIter:100\nIter:100\nIter:100\nIter:100\nIter:200\nIter:200\nIter:200\nIter:200\nIter:200\nIter:200\nIter:300\nIter:300\nIter:300\nIter:300\nIter:300\nIter:300\nIter:400\nIter:400\nIter:400\nIter:400\nIter:400\nIter:400\nIter:500\nIter:500\nIter:500\nIter:500\nIter:500\nIter:500\nIter:600\nIter:600\nIter:600\nIter:600\nIter:600\nIter:600\nSetAPA.AX\n--- 228.46284556388855 seconds ---\nAPT.AX\nIter:0Iter:0Iter:0\n\nIter:0\nIter:0Iter:0\n\n\nIter:100\nIter:100\nIter:100\nIter:100\nIter:100\nIter:100\nSetAPT.AX\n--- 35.56452679634094 seconds ---\nAST.AX\nIter:0Iter:0\n\nIter:0\nIter:0\nIter:0Iter:0\n\nIter:100Iter:100\n\nIter:100\nIter:100\nIter:100\nIter:100\nIter:200\nIter:200\nIter:200\nIter:200\nIter:200\nIter:200\nIter:300\nIter:300\nIter:300\nIter:300\nIter:300\nIter:300\nIter:400\nIter:400\nIter:400\nIter:400\nIter:400\nIter:400\nIter:500\nIter:500\nIter:500\nIter:500\nIter:500\nIter:500\nSetAST.AX\n--- 206.5268452167511 seconds ---\nASX.AX\nIter:0Iter:0Iter:0Iter:0\nIter:0\n\nIter:0\n\n\nIter:100\nIter:100\nIter:100\nIter:100\nIter:100\nIter:100\nIter:200\nIter:200\nIter:200\nIter:200\nIter:200\nIter:200\nIter:300\nIter:300\nIter:300\nIter:300\nIter:300\nIter:300\nIter:400Iter:400\n\nIter:400\nIter:400\nIter:400\nIter:400\nIter:500\nIter:500\nIter:500\nIter:500\nIter:500\nIter:500\nIter:600\nIter:600\nIter:600\nIter:600\nIter:600\nIter:600\nSetASX.AX\n--- 223.08278250694275 seconds ---\nAWC.AX\nIter:0Iter:0Iter:0Iter:0Iter:0\n\n\n\nIter:0\n\nIter:100\nIter:100\nIter:100\nIter:100\nIter:100\nIter:100\nIter:200\nIter:200\nIter:200\nIter:200\nIter:200\nIter:200\nIter:300\nIter:300\nIter:300\nIter:300\nIter:300\nIter:300\nIter:400\nIter:400\nIter:400\nIter:400\nIter:400\nIter:400\nIter:500\nIter:500\nIter:500\nIter:500\nIter:500\nIter:500\nIter:600\nIter:600\nIter:600\nIter:600\nIter:600\nIter:600\nSetAWC.AX\n--- 227.35666608810425 seconds ---\nAZJ.AX\nIter:0Iter:0Iter:0Iter:0\n\nIter:0\n\nIter:0\n\nIter:100\nIter:100\nIter:100\nIter:100\nIter:100\nIter:100\nIter:200\nIter:200\nIter:200\nIter:200\nIter:200\nIter:200\nIter:300\nIter:300\nIter:300\nIter:300\nIter:300\nIter:300\nSetAZJ.AX\n--- 130.31186318397522 seconds ---\nBEN.AX\nIter:0Iter:0Iter:0\n\nIter:0\nIter:0Iter:0\n\n\nIter:100\nIter:100\nIter:100\nIter:100\nIter:100\nIter:100\nIter:200\nIter:200\nIter:200\nIter:200\nIter:200\nIter:200\nIter:300\nIter:300\nIter:300\nIter:300\nIter:300\nIter:300\nIter:400\nIter:400\nIter:400\nIter:400\nIter:400\nIter:400\nIter:500\nIter:500\nIter:500\nIter:500\nIter:500\nIter:500\nIter:600\nIter:600\nIter:600\nIter:600\nIter:600\nIter:600\nSetBEN.AX\n--- 223.9839367866516 seconds ---\nBHP.AX\nIter:0Iter:0Iter:0\n\nIter:0Iter:0\nIter:0\n\n\nIter:100\nIter:100\nIter:100\nIter:100\nIter:100\nIter:100\nIter:200\nIter:200\nIter:200\nIter:200\nIter:200\nIter:200\nIter:300\nIter:300\nIter:300\nIter:300\nIter:300\nIter:300\nIter:400\nIter:400\nIter:400\nIter:400\nIter:400\nIter:400\nIter:500\nIter:500\nIter:500\nIter:500\nIter:500\nIter:500\nIter:600\nIter:600\nIter:600\nIter:600\nIter:600\nIter:600\nSetBHP.AX\n--- 225.1094582080841 seconds ---\nBLD.AX\nIter:0Iter:0Iter:0\n\nIter:0\nIter:0\n\nIter:0\nIter:100\nIter:100\nIter:100\nIter:100\nIter:100\nIter:100\nIter:200\nIter:200\nIter:200\nIter:200\nIter:200\nIter:200\nIter:300\nIter:300\nIter:300\nIter:300\nIter:300\nIter:300\nIter:400\nIter:400\nIter:400\nIter:400\nIter:400\nIter:400\nIter:500\nIter:500\nIter:500\nIter:500\nIter:500\nIter:500\nIter:600\nIter:600\nIter:600\nIter:600\nIter:600\nIter:600\nSetBLD.AX\n--- 226.0697145462036 seconds ---\nBOQ.AX\nIter:0Iter:0Iter:0\n\nIter:0Iter:0Iter:0\n\n\n\nIter:100\nIter:100\nIter:100\nIter:100Iter:100\n\nIter:100\nIter:200\nIter:200\nIter:200\nIter:200\nIter:200\nIter:200\nIter:300\nIter:300\nIter:300\nIter:300\nIter:300\nIter:300\nIter:400\nIter:400\nIter:400\nIter:400\nIter:400\nIter:400\nIter:500\nIter:500\nIter:500\nIter:500\nIter:500\nIter:500\nIter:600\nIter:600\nIter:600\nIter:600\nIter:600\nIter:600\nSetBOQ.AX\n--- 230.67612075805664 seconds ---\n"
    }
   ],
   "source": [
    "#%%script false --no-raise-error\n",
    "\n",
    "# Multiprocessing by splitting the data frame (one symbol at a time)\n",
    "# Then using RAMDISK to create the temp image file (much faster)\n",
    "# Uses applyParallel2()\n",
    "# [WORKING FINE]\n",
    "\n",
    "# [EARLIER] The Image.open was giving error as file names were getting overwritten. Also, even though there were 6 CPU core processes, all of them were generating the same random numbers. The solution is to pass the seed when the multiprocessing is called (not implemenented) \n",
    "# UnidentifiedImageError: cannot identify image file '/ramdisk/temp_imageA2M1990041346.png'\n",
    "\n",
    "# Also, tried creating individual .PNG files with the aim of reading them later on. \n",
    "\n",
    "#data = df[df['Symbol'].isin(['A2M.AX','AGL.AX','ALL.AX','ALQ.AX'])]\n",
    "#data = df[df['Symbol'].isin(['A2M.AX'])]\n",
    "data = df\n",
    "syms = data['Symbol'].unique()\n",
    "\n",
    "\n",
    "CPU_CORES = mp.cpu_count()\n",
    "for i in syms:\n",
    "    print(i)\n",
    "    start_time = time.time()\n",
    "    temp = data[data['Symbol'] == i]    \n",
    "    result = applyParallel_npsplit(np.array_split(temp,CPU_CORES), createXYarrays)\n",
    "    gc.collect()\n",
    "    gc.collect()\n",
    "    saveXYtoDisk(result,\"Set\" + str(i))\n",
    "    print(\"--- %s seconds ---\" % (time.time() - start_time))\n",
    "\n",
    "\n",
    "\n"
   ]
  },
  {
   "cell_type": "code",
   "execution_count": 13,
   "metadata": {
    "tags": []
   },
   "outputs": [
    {
     "output_type": "stream",
     "name": "stdout",
     "text": "(1211, 64, 64, 3)\n(1211,)\n1.156385751520417\n1.0990916597853013\n"
    }
   ],
   "source": [
    "file = h5py.File(\"../data/SetA2M.AX.h5\", \"r\")\n",
    "set_x = file[\"set_x\"][:]\n",
    "set_y = file[\"set_y\"][:]\n",
    "file.close()\n",
    "\n",
    "print(set_x.shape)\n",
    "print(set_y.shape)\n",
    "\n",
    "\n",
    "#Window 20 : (1151, 64, 64, 3)\n",
    "print(1331/1151)\n",
    "#Window 10 : (1211, 64, 64, 3)\n",
    "print(1331/1211)\n"
   ]
  },
  {
   "cell_type": "markdown",
   "metadata": {},
   "source": [
    "\n",
    "    "
   ]
  },
  {
   "cell_type": "markdown",
   "metadata": {},
   "source": [
    "### Test the created data files"
   ]
  },
  {
   "cell_type": "code",
   "execution_count": null,
   "metadata": {},
   "outputs": [],
   "source": [
    "%%script false --no-raise-error\n",
    "\n",
    "# Test Single file \n",
    "#file = h5py.File(\"data/Set0_128x128_Window20.h5\", \"r\")\n",
    "#file = h5py.File(\"data/Archive_256x256_Window20/SetA2M.AX.h5\", \"r\")\n",
    "file = h5py.File(\"data/Set0.h5\", \"r\")\n",
    "set_x = file[\"set_x\"][:]\n",
    "set_y = file[\"set_y\"][:]\n",
    "file.close()\n",
    "\n",
    "\n",
    "print(set_x.shape)\n",
    "print(set_y.shape)"
   ]
  },
  {
   "cell_type": "code",
   "execution_count": 12,
   "metadata": {
    "tags": []
   },
   "outputs": [
    {
     "output_type": "execute_result",
     "data": {
      "text/plain": "<matplotlib.image.AxesImage at 0x7fcc70147438>"
     },
     "metadata": {},
     "execution_count": 12
    },
    {
     "output_type": "display_data",
     "data": {
      "text/plain": "<Figure size 432x288 with 1 Axes>",
      "image/svg+xml": "<?xml version=\"1.0\" encoding=\"utf-8\" standalone=\"no\"?>\n<!DOCTYPE svg PUBLIC \"-//W3C//DTD SVG 1.1//EN\"\n  \"http://www.w3.org/Graphics/SVG/1.1/DTD/svg11.dtd\">\n<!-- Created with matplotlib (https://matplotlib.org/) -->\n<svg height=\"251.892656pt\" version=\"1.1\" viewBox=\"0 0 262.799687 251.892656\" width=\"262.799687pt\" xmlns=\"http://www.w3.org/2000/svg\" xmlns:xlink=\"http://www.w3.org/1999/xlink\">\n <defs>\n  <style type=\"text/css\">\n*{stroke-linecap:butt;stroke-linejoin:round;}\n  </style>\n </defs>\n <g id=\"figure_1\">\n  <g id=\"patch_1\">\n   <path d=\"M 0 251.892656 \nL 262.799687 251.892656 \nL 262.799687 0 \nL 0 0 \nz\n\" style=\"fill:none;\"/>\n  </g>\n  <g id=\"axes_1\">\n   <g id=\"patch_2\">\n    <path d=\"M 33.2875 228.014531 \nL 250.7275 228.014531 \nL 250.7275 10.574531 \nL 33.2875 10.574531 \nz\n\" style=\"fill:#ffffff;\"/>\n   </g>\n   <g clip-path=\"url(#p62fde33824)\">\n    <image height=\"218\" id=\"image1d25192785\" transform=\"scale(1 -1)translate(0 -218)\" width=\"218\" x=\"33.2875\" xlink:href=\"data:image/png;base64,\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\" y=\"-10.014531\"/>\n   </g>\n   <g id=\"matplotlib.axis_1\">\n    <g id=\"xtick_1\">\n     <g id=\"line2d_1\">\n      <defs>\n       <path d=\"M 0 0 \nL 0 3.5 \n\" id=\"m7e60f6755c\" style=\"stroke:#000000;stroke-width:0.8;\"/>\n      </defs>\n      <g>\n       <use style=\"stroke:#000000;stroke-width:0.8;\" x=\"33.712188\" xlink:href=\"#m7e60f6755c\" y=\"228.014531\"/>\n      </g>\n     </g>\n     <g id=\"text_1\">\n      <!-- 0 -->\n      <defs>\n       <path d=\"M 31.78125 66.40625 \nQ 24.171875 66.40625 20.328125 58.90625 \nQ 16.5 51.421875 16.5 36.375 \nQ 16.5 21.390625 20.328125 13.890625 \nQ 24.171875 6.390625 31.78125 6.390625 \nQ 39.453125 6.390625 43.28125 13.890625 \nQ 47.125 21.390625 47.125 36.375 \nQ 47.125 51.421875 43.28125 58.90625 \nQ 39.453125 66.40625 31.78125 66.40625 \nz\nM 31.78125 74.21875 \nQ 44.046875 74.21875 50.515625 64.515625 \nQ 56.984375 54.828125 56.984375 36.375 \nQ 56.984375 17.96875 50.515625 8.265625 \nQ 44.046875 -1.421875 31.78125 -1.421875 \nQ 19.53125 -1.421875 13.0625 8.265625 \nQ 6.59375 17.96875 6.59375 36.375 \nQ 6.59375 54.828125 13.0625 64.515625 \nQ 19.53125 74.21875 31.78125 74.21875 \nz\n\" id=\"DejaVuSans-48\"/>\n      </defs>\n      <g transform=\"translate(30.530938 242.612969)scale(0.1 -0.1)\">\n       <use xlink:href=\"#DejaVuSans-48\"/>\n      </g>\n     </g>\n    </g>\n    <g id=\"xtick_2\">\n     <g id=\"line2d_2\">\n      <g>\n       <use style=\"stroke:#000000;stroke-width:0.8;\" x=\"76.180937\" xlink:href=\"#m7e60f6755c\" y=\"228.014531\"/>\n      </g>\n     </g>\n     <g id=\"text_2\">\n      <!-- 50 -->\n      <defs>\n       <path d=\"M 10.796875 72.90625 \nL 49.515625 72.90625 \nL 49.515625 64.59375 \nL 19.828125 64.59375 \nL 19.828125 46.734375 \nQ 21.96875 47.46875 24.109375 47.828125 \nQ 26.265625 48.1875 28.421875 48.1875 \nQ 40.625 48.1875 47.75 41.5 \nQ 54.890625 34.8125 54.890625 23.390625 \nQ 54.890625 11.625 47.5625 5.09375 \nQ 40.234375 -1.421875 26.90625 -1.421875 \nQ 22.3125 -1.421875 17.546875 -0.640625 \nQ 12.796875 0.140625 7.71875 1.703125 \nL 7.71875 11.625 \nQ 12.109375 9.234375 16.796875 8.0625 \nQ 21.484375 6.890625 26.703125 6.890625 \nQ 35.15625 6.890625 40.078125 11.328125 \nQ 45.015625 15.765625 45.015625 23.390625 \nQ 45.015625 31 40.078125 35.4375 \nQ 35.15625 39.890625 26.703125 39.890625 \nQ 22.75 39.890625 18.8125 39.015625 \nQ 14.890625 38.140625 10.796875 36.28125 \nz\n\" id=\"DejaVuSans-53\"/>\n      </defs>\n      <g transform=\"translate(69.818438 242.612969)scale(0.1 -0.1)\">\n       <use xlink:href=\"#DejaVuSans-53\"/>\n       <use x=\"63.623047\" xlink:href=\"#DejaVuSans-48\"/>\n      </g>\n     </g>\n    </g>\n    <g id=\"xtick_3\">\n     <g id=\"line2d_3\">\n      <g>\n       <use style=\"stroke:#000000;stroke-width:0.8;\" x=\"118.649687\" xlink:href=\"#m7e60f6755c\" y=\"228.014531\"/>\n      </g>\n     </g>\n     <g id=\"text_3\">\n      <!-- 100 -->\n      <defs>\n       <path d=\"M 12.40625 8.296875 \nL 28.515625 8.296875 \nL 28.515625 63.921875 \nL 10.984375 60.40625 \nL 10.984375 69.390625 \nL 28.421875 72.90625 \nL 38.28125 72.90625 \nL 38.28125 8.296875 \nL 54.390625 8.296875 \nL 54.390625 0 \nL 12.40625 0 \nz\n\" id=\"DejaVuSans-49\"/>\n      </defs>\n      <g transform=\"translate(109.105937 242.612969)scale(0.1 -0.1)\">\n       <use xlink:href=\"#DejaVuSans-49\"/>\n       <use x=\"63.623047\" xlink:href=\"#DejaVuSans-48\"/>\n       <use x=\"127.246094\" xlink:href=\"#DejaVuSans-48\"/>\n      </g>\n     </g>\n    </g>\n    <g id=\"xtick_4\">\n     <g id=\"line2d_4\">\n      <g>\n       <use style=\"stroke:#000000;stroke-width:0.8;\" x=\"161.118437\" xlink:href=\"#m7e60f6755c\" y=\"228.014531\"/>\n      </g>\n     </g>\n     <g id=\"text_4\">\n      <!-- 150 -->\n      <g transform=\"translate(151.574688 242.612969)scale(0.1 -0.1)\">\n       <use xlink:href=\"#DejaVuSans-49\"/>\n       <use x=\"63.623047\" xlink:href=\"#DejaVuSans-53\"/>\n       <use x=\"127.246094\" xlink:href=\"#DejaVuSans-48\"/>\n      </g>\n     </g>\n    </g>\n    <g id=\"xtick_5\">\n     <g id=\"line2d_5\">\n      <g>\n       <use style=\"stroke:#000000;stroke-width:0.8;\" x=\"203.587187\" xlink:href=\"#m7e60f6755c\" y=\"228.014531\"/>\n      </g>\n     </g>\n     <g id=\"text_5\">\n      <!-- 200 -->\n      <defs>\n       <path d=\"M 19.1875 8.296875 \nL 53.609375 8.296875 \nL 53.609375 0 \nL 7.328125 0 \nL 7.328125 8.296875 \nQ 12.9375 14.109375 22.625 23.890625 \nQ 32.328125 33.6875 34.8125 36.53125 \nQ 39.546875 41.84375 41.421875 45.53125 \nQ 43.3125 49.21875 43.3125 52.78125 \nQ 43.3125 58.59375 39.234375 62.25 \nQ 35.15625 65.921875 28.609375 65.921875 \nQ 23.96875 65.921875 18.8125 64.3125 \nQ 13.671875 62.703125 7.8125 59.421875 \nL 7.8125 69.390625 \nQ 13.765625 71.78125 18.9375 73 \nQ 24.125 74.21875 28.421875 74.21875 \nQ 39.75 74.21875 46.484375 68.546875 \nQ 53.21875 62.890625 53.21875 53.421875 \nQ 53.21875 48.921875 51.53125 44.890625 \nQ 49.859375 40.875 45.40625 35.40625 \nQ 44.1875 33.984375 37.640625 27.21875 \nQ 31.109375 20.453125 19.1875 8.296875 \nz\n\" id=\"DejaVuSans-50\"/>\n      </defs>\n      <g transform=\"translate(194.043438 242.612969)scale(0.1 -0.1)\">\n       <use xlink:href=\"#DejaVuSans-50\"/>\n       <use x=\"63.623047\" xlink:href=\"#DejaVuSans-48\"/>\n       <use x=\"127.246094\" xlink:href=\"#DejaVuSans-48\"/>\n      </g>\n     </g>\n    </g>\n    <g id=\"xtick_6\">\n     <g id=\"line2d_6\">\n      <g>\n       <use style=\"stroke:#000000;stroke-width:0.8;\" x=\"246.055937\" xlink:href=\"#m7e60f6755c\" y=\"228.014531\"/>\n      </g>\n     </g>\n     <g id=\"text_6\">\n      <!-- 250 -->\n      <g transform=\"translate(236.512188 242.612969)scale(0.1 -0.1)\">\n       <use xlink:href=\"#DejaVuSans-50\"/>\n       <use x=\"63.623047\" xlink:href=\"#DejaVuSans-53\"/>\n       <use x=\"127.246094\" xlink:href=\"#DejaVuSans-48\"/>\n      </g>\n     </g>\n    </g>\n   </g>\n   <g id=\"matplotlib.axis_2\">\n    <g id=\"ytick_1\">\n     <g id=\"line2d_7\">\n      <defs>\n       <path d=\"M 0 0 \nL -3.5 0 \n\" id=\"m8ff662ea23\" style=\"stroke:#000000;stroke-width:0.8;\"/>\n      </defs>\n      <g>\n       <use style=\"stroke:#000000;stroke-width:0.8;\" x=\"33.2875\" xlink:href=\"#m8ff662ea23\" y=\"10.999219\"/>\n      </g>\n     </g>\n     <g id=\"text_7\">\n      <!-- 0 -->\n      <g transform=\"translate(19.925 14.798438)scale(0.1 -0.1)\">\n       <use xlink:href=\"#DejaVuSans-48\"/>\n      </g>\n     </g>\n    </g>\n    <g id=\"ytick_2\">\n     <g id=\"line2d_8\">\n      <g>\n       <use style=\"stroke:#000000;stroke-width:0.8;\" x=\"33.2875\" xlink:href=\"#m8ff662ea23\" y=\"53.467969\"/>\n      </g>\n     </g>\n     <g id=\"text_8\">\n      <!-- 50 -->\n      <g transform=\"translate(13.5625 57.267188)scale(0.1 -0.1)\">\n       <use xlink:href=\"#DejaVuSans-53\"/>\n       <use x=\"63.623047\" xlink:href=\"#DejaVuSans-48\"/>\n      </g>\n     </g>\n    </g>\n    <g id=\"ytick_3\">\n     <g id=\"line2d_9\">\n      <g>\n       <use style=\"stroke:#000000;stroke-width:0.8;\" x=\"33.2875\" xlink:href=\"#m8ff662ea23\" y=\"95.936719\"/>\n      </g>\n     </g>\n     <g id=\"text_9\">\n      <!-- 100 -->\n      <g transform=\"translate(7.2 99.735938)scale(0.1 -0.1)\">\n       <use xlink:href=\"#DejaVuSans-49\"/>\n       <use x=\"63.623047\" xlink:href=\"#DejaVuSans-48\"/>\n       <use x=\"127.246094\" xlink:href=\"#DejaVuSans-48\"/>\n      </g>\n     </g>\n    </g>\n    <g id=\"ytick_4\">\n     <g id=\"line2d_10\">\n      <g>\n       <use style=\"stroke:#000000;stroke-width:0.8;\" x=\"33.2875\" xlink:href=\"#m8ff662ea23\" y=\"138.405469\"/>\n      </g>\n     </g>\n     <g id=\"text_10\">\n      <!-- 150 -->\n      <g transform=\"translate(7.2 142.204688)scale(0.1 -0.1)\">\n       <use xlink:href=\"#DejaVuSans-49\"/>\n       <use x=\"63.623047\" xlink:href=\"#DejaVuSans-53\"/>\n       <use x=\"127.246094\" xlink:href=\"#DejaVuSans-48\"/>\n      </g>\n     </g>\n    </g>\n    <g id=\"ytick_5\">\n     <g id=\"line2d_11\">\n      <g>\n       <use style=\"stroke:#000000;stroke-width:0.8;\" x=\"33.2875\" xlink:href=\"#m8ff662ea23\" y=\"180.874219\"/>\n      </g>\n     </g>\n     <g id=\"text_11\">\n      <!-- 200 -->\n      <g transform=\"translate(7.2 184.673438)scale(0.1 -0.1)\">\n       <use xlink:href=\"#DejaVuSans-50\"/>\n       <use x=\"63.623047\" xlink:href=\"#DejaVuSans-48\"/>\n       <use x=\"127.246094\" xlink:href=\"#DejaVuSans-48\"/>\n      </g>\n     </g>\n    </g>\n    <g id=\"ytick_6\">\n     <g id=\"line2d_12\">\n      <g>\n       <use style=\"stroke:#000000;stroke-width:0.8;\" x=\"33.2875\" xlink:href=\"#m8ff662ea23\" y=\"223.342969\"/>\n      </g>\n     </g>\n     <g id=\"text_12\">\n      <!-- 250 -->\n      <g transform=\"translate(7.2 227.142188)scale(0.1 -0.1)\">\n       <use xlink:href=\"#DejaVuSans-50\"/>\n       <use x=\"63.623047\" xlink:href=\"#DejaVuSans-53\"/>\n       <use x=\"127.246094\" xlink:href=\"#DejaVuSans-48\"/>\n      </g>\n     </g>\n    </g>\n   </g>\n   <g id=\"patch_3\">\n    <path d=\"M 33.2875 228.014531 \nL 33.2875 10.574531 \n\" style=\"fill:none;stroke:#000000;stroke-linecap:square;stroke-linejoin:miter;stroke-width:0.8;\"/>\n   </g>\n   <g id=\"patch_4\">\n    <path d=\"M 250.7275 228.014531 \nL 250.7275 10.574531 \n\" style=\"fill:none;stroke:#000000;stroke-linecap:square;stroke-linejoin:miter;stroke-width:0.8;\"/>\n   </g>\n   <g id=\"patch_5\">\n    <path d=\"M 33.2875 228.014531 \nL 250.7275 228.014531 \n\" style=\"fill:none;stroke:#000000;stroke-linecap:square;stroke-linejoin:miter;stroke-width:0.8;\"/>\n   </g>\n   <g id=\"patch_6\">\n    <path d=\"M 33.2875 10.574531 \nL 250.7275 10.574531 \n\" style=\"fill:none;stroke:#000000;stroke-linecap:square;stroke-linejoin:miter;stroke-width:0.8;\"/>\n   </g>\n  </g>\n </g>\n <defs>\n  <clipPath id=\"p62fde33824\">\n   <rect height=\"217.44\" width=\"217.44\" x=\"33.2875\" y=\"10.574531\"/>\n  </clipPath>\n </defs>\n</svg>\n",
      "image/png": "[encoded data removed]"
     },
     "metadata": {
      "needs_background": "light"
     }
    }
   ],
   "source": [
    "plt.imshow((set_x[1]).astype(np.uint8))"
   ]
  },
  {
   "cell_type": "code",
   "execution_count": 4,
   "metadata": {},
   "outputs": [
    {
     "output_type": "execute_result",
     "data": {
      "text/plain": "array([0, 0, 1, 1])"
     },
     "metadata": {},
     "execution_count": 4
    }
   ],
   "source": [
    "set_y[0:4]"
   ]
  },
  {
   "cell_type": "code",
   "execution_count": null,
   "metadata": {},
   "outputs": [],
   "source": []
  }
 ],
 "metadata": {
  "kernelspec": {
   "display_name": "Python 3.6.9 64-bit",
   "language": "python",
   "name": "python_defaultSpec_1594188081387"
  },
  "language_info": {
   "codemirror_mode": {
    "name": "ipython",
    "version": 3
   },
   "file_extension": ".py",
   "mimetype": "text/x-python",
   "name": "python",
   "nbconvert_exporter": "python",
   "pygments_lexer": "ipython3",
   "version": "3.6.9-final"
  }
 },
 "nbformat": 4,
 "nbformat_minor": 4
}